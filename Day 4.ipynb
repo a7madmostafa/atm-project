{
 "cells": [
  {
   "cell_type": "markdown",
   "metadata": {},
   "source": [
    "# Meal Planner (edit)"
   ]
  },
  {
   "cell_type": "markdown",
   "metadata": {},
   "source": [
    "## Standard Plan"
   ]
  },
  {
   "cell_type": "code",
   "execution_count": 11,
   "metadata": {},
   "outputs": [],
   "source": [
    "def meal_of_day(day):\n",
    "    egyptian_meals = [\n",
    "    \"Koshari\", \"Molokhia\",\"Fattah\", \"Hawawshi\",\n",
    "    \"Ful Medames\",  \"Taameya\", \"Mahshi\", \"Hamam Mahshi\",\n",
    "    \"Feseekh\", \"Kabab\", \"Kofta\", \"Sayadeya\",\n",
    "    \"Bamia\", \"Roz Me’ammar\", \"Shakshuka\",\n",
    "    \"Bata Harra\", \"Mombar\", \"Aish Baladi\", \"Besara\",\n",
    "    \"Feteer Meshaltet\", \"Torly\", \"Karakeesh\",\n",
    "    \"Konafa\", \"Basbousa\", \"Umm Ali\", \"Qatayef\",\n",
    "    \"Alexandrian Liver\", \"Kebda Iskandarani\", \"Shish Tawook\", \"Ringa\"]\n",
    "    if day in range(1,31):\n",
    "        return egyptian_meals[day - 1]\n",
    "    else:\n",
    "        return 'Invalid Day'"
   ]
  },
  {
   "cell_type": "code",
   "execution_count": 15,
   "metadata": {},
   "outputs": [
    {
     "data": {
      "text/plain": [
       "'Kabab'"
      ]
     },
     "execution_count": 15,
     "metadata": {},
     "output_type": "execute_result"
    }
   ],
   "source": [
    "meal_of_day(10)"
   ]
  },
  {
   "cell_type": "markdown",
   "metadata": {},
   "source": [
    "## Random Plan"
   ]
  },
  {
   "cell_type": "code",
   "execution_count": 60,
   "metadata": {},
   "outputs": [],
   "source": [
    "import random \n",
    "def meal_of_day():\n",
    "    egyptian_meals = [\n",
    "    \"Koshari\", \"Molokhia\",\"Fattah\", \"Hawawshi\",\n",
    "    \"Ful Medames\",  \"Taameya\", \"Mahshi\", \"Hamam Mahshi\",\n",
    "    \"Feseekh\", \"Kabab\", \"Kofta\", \"Sayadeya\",\n",
    "    \"Bamia\", \"Roz Me’ammar\", \"Shakshuka\",\n",
    "    \"Bata Harra\", \"Mombar\", \"Aish Baladi\", \"Besara\",\n",
    "    \"Feteer Meshaltet\", \"Torly\", \"Karakeesh\",\n",
    "    \"Konafa\", \"Basbousa\", \"Umm Ali\", \"Qatayef\",\n",
    "    \"Alexandrian Liver\", \"Kebda Iskandarani\", \"Shish Tawook\", \"Ringa\"]\n",
    "    return random.choice(egyptian_meals)\n",
    "    "
   ]
  },
  {
   "cell_type": "code",
   "execution_count": 61,
   "metadata": {},
   "outputs": [
    {
     "data": {
      "text/plain": [
       "'Fattah'"
      ]
     },
     "execution_count": 61,
     "metadata": {},
     "output_type": "execute_result"
    }
   ],
   "source": [
    "meal_of_day()"
   ]
  },
  {
   "cell_type": "code",
   "execution_count": 62,
   "metadata": {},
   "outputs": [
    {
     "name": "stdout",
     "output_type": "stream",
     "text": [
      "Day 1:  Aish Baladi\n",
      "Day 2:  Fattah\n",
      "Day 3:  Koshari\n",
      "Day 4:  Mahshi\n",
      "Day 5:  Kabab\n",
      "Day 6:  Ringa\n",
      "Day 7:  Besara\n",
      "Day 8:  Umm Ali\n",
      "Day 9:  Umm Ali\n",
      "Day 10:  Besara\n",
      "Day 11:  Roz Me’ammar\n",
      "Day 12:  Bata Harra\n",
      "Day 13:  Feseekh\n",
      "Day 14:  Konafa\n",
      "Day 15:  Mahshi\n",
      "Day 16:  Sayadeya\n",
      "Day 17:  Torly\n",
      "Day 18:  Sayadeya\n",
      "Day 19:  Umm Ali\n",
      "Day 20:  Kabab\n",
      "Day 21:  Roz Me’ammar\n",
      "Day 22:  Kofta\n",
      "Day 23:  Molokhia\n",
      "Day 24:  Koshari\n",
      "Day 25:  Taameya\n",
      "Day 26:  Qatayef\n",
      "Day 27:  Umm Ali\n",
      "Day 28:  Taameya\n",
      "Day 29:  Feteer Meshaltet\n",
      "Day 30:  Qatayef\n"
     ]
    }
   ],
   "source": [
    "for day in range(1,31):\n",
    "    print(f'Day {day}: ',  meal_of_day())"
   ]
  },
  {
   "cell_type": "markdown",
   "metadata": {},
   "source": [
    "## Random Unique Plan"
   ]
  },
  {
   "cell_type": "code",
   "execution_count": 71,
   "metadata": {},
   "outputs": [],
   "source": [
    "import random \n",
    "egyptian_meals = [\n",
    "    \"Koshari\", \"Molokhia\",\"Fattah\", \"Hawawshi\",\n",
    "    \"Ful Medames\",  \"Taameya\", \"Mahshi\", \"Hamam Mahshi\",\n",
    "    \"Feseekh\", \"Kabab\", \"Kofta\", \"Sayadeya\",\n",
    "    \"Bamia\", \"Roz Me’ammar\", \"Shakshuka\",\n",
    "    \"Bata Harra\", \"Mombar\", \"Aish Baladi\", \"Besara\",\n",
    "    \"Feteer Meshaltet\", \"Torly\", \"Karakeesh\",\n",
    "    \"Konafa\", \"Basbousa\", \"Umm Ali\", \"Qatayef\",\n",
    "    \"Alexandrian Liver\", \"Kebda Iskandarani\", \"Shish Tawook\", \"Ringa\"]\n",
    "\n",
    "used_meals = []\n",
    "def meal_of_day():\n",
    "    global used_meals\n",
    "    available_meals = [meal for meal in egyptian_meals if meal not in used_meals]\n",
    "    used_meal = random.choice(available_meals)\n",
    "    used_meals.append(used_meal)\n",
    "    # print('No. of meals used: ', len(used_meals))\n",
    "    # print('No. of meals available: ', len(available_meals)-1)\n",
    "    # print('#'*50)\n",
    "    return used_meal"
   ]
  },
  {
   "cell_type": "code",
   "execution_count": null,
   "metadata": {},
   "outputs": [],
   "source": [
    "used_meals = []\n",
    "def meal_of_day():\n",
    "    global used_meals\n",
    "    available_meals = []\n",
    "    for meal in egyptian_meals:\n",
    "        if meal not in used_meals:\n",
    "            available_meals.append(meal)\n",
    "    used_meal = random.choice(available_meals)\n",
    "    used_meals.append(used_meal)\n",
    "    # print('No. of meals used: ', len(used_meals))\n",
    "    # print('No. of meals available: ', len(available_meals)-1)\n",
    "    # print('#'*50)\n",
    "    return used_meal"
   ]
  },
  {
   "cell_type": "code",
   "execution_count": 72,
   "metadata": {},
   "outputs": [
    {
     "name": "stdout",
     "output_type": "stream",
     "text": [
      "Day 1:  Umm Ali\n",
      "Day 2:  Kofta\n",
      "Day 3:  Mombar\n",
      "Day 4:  Taameya\n",
      "Day 5:  Shish Tawook\n",
      "Day 6:  Hawawshi\n",
      "Day 7:  Mahshi\n",
      "Day 8:  Fattah\n",
      "Day 9:  Kebda Iskandarani\n",
      "Day 10:  Kabab\n",
      "Day 11:  Ringa\n",
      "Day 12:  Hamam Mahshi\n",
      "Day 13:  Ful Medames\n",
      "Day 14:  Sayadeya\n",
      "Day 15:  Molokhia\n",
      "Day 16:  Basbousa\n",
      "Day 17:  Torly\n",
      "Day 18:  Bata Harra\n",
      "Day 19:  Aish Baladi\n",
      "Day 20:  Feteer Meshaltet\n",
      "Day 21:  Besara\n",
      "Day 22:  Koshari\n",
      "Day 23:  Konafa\n",
      "Day 24:  Karakeesh\n",
      "Day 25:  Shakshuka\n",
      "Day 26:  Feseekh\n",
      "Day 27:  Roz Me’ammar\n",
      "Day 28:  Qatayef\n",
      "Day 29:  Alexandrian Liver\n",
      "Day 30:  Bamia\n"
     ]
    }
   ],
   "source": [
    "for day in range(1,31):\n",
    "    print(f'Day {day}: ',  meal_of_day())"
   ]
  },
  {
   "cell_type": "markdown",
   "metadata": {},
   "source": [
    "# OOP"
   ]
  },
  {
   "cell_type": "code",
   "execution_count": 78,
   "metadata": {},
   "outputs": [],
   "source": [
    "def welcome(name='Mr.'):\n",
    "    print(' Welcome to Egypt, {}'.format(name))"
   ]
  },
  {
   "cell_type": "code",
   "execution_count": 80,
   "metadata": {},
   "outputs": [
    {
     "name": "stdout",
     "output_type": "stream",
     "text": [
      " Welcome to Egypt, A\n"
     ]
    }
   ],
   "source": [
    "welcome('A')"
   ]
  },
  {
   "cell_type": "code",
   "execution_count": 81,
   "metadata": {},
   "outputs": [
    {
     "data": {
      "text/plain": [
       "False"
      ]
     },
     "execution_count": 81,
     "metadata": {},
     "output_type": "execute_result"
    }
   ],
   "source": [
    "s = 'sdasd'\n",
    "isinstance(s, list)"
   ]
  },
  {
   "cell_type": "code",
   "execution_count": 82,
   "metadata": {},
   "outputs": [
    {
     "data": {
      "text/plain": [
       "True"
      ]
     },
     "execution_count": 82,
     "metadata": {},
     "output_type": "execute_result"
    }
   ],
   "source": [
    "isinstance(s, str)"
   ]
  },
  {
   "cell_type": "code",
   "execution_count": 6,
   "metadata": {},
   "outputs": [],
   "source": [
    "def add_5(x):\n",
    "    if type(x) == int or type(x) == float:\n",
    "        return x + 5\n",
    "    else:\n",
    "        return 'Not a number'"
   ]
  },
  {
   "cell_type": "code",
   "execution_count": 9,
   "metadata": {},
   "outputs": [
    {
     "data": {
      "text/plain": [
       "'Not a number'"
      ]
     },
     "execution_count": 9,
     "metadata": {},
     "output_type": "execute_result"
    }
   ],
   "source": [
    "add_5([1])"
   ]
  },
  {
   "cell_type": "markdown",
   "metadata": {},
   "source": [
    "# Exercise"
   ]
  },
  {
   "cell_type": "markdown",
   "metadata": {},
   "source": [
    "<img src=\"https://images.prismic.io/turing/65a53be67a5e8b1120d58808_image1_11zon_fa4497e473.webp?auto=format,compress\" width=\"400\">"
   ]
  },
  {
   "cell_type": "code",
   "execution_count": 10,
   "metadata": {},
   "outputs": [],
   "source": [
    "class ATM:\n",
    "    def __init__(self, balance=0):\n",
    "        self.balance = balance\n",
    "\n",
    "    def check_balance(self):\n",
    "        print(f\"Your current balance is: ${self.balance:.2f}\")\n",
    "\n",
    "    def deposit(self, amount):\n",
    "        if amount > 0:\n",
    "            self.balance += amount\n",
    "            print(f\"Deposited: ${amount:.2f}\")\n",
    "            self.check_balance()\n",
    "        else:\n",
    "            print(\"Deposit amount must be positive!\")\n",
    "\n",
    "    def withdraw(self, amount):\n",
    "        if amount > self.balance:\n",
    "            print(\"Insufficient funds!\")\n",
    "        elif amount <= 0:\n",
    "            print(\"Withdrawal amount must be positive!\")\n",
    "        else:\n",
    "            self.balance -= amount\n",
    "            print(f\"Withdrew: ${amount:.2f}\")\n",
    "            self.check_balance()\n",
    "\n",
    "def atm_menu():\n",
    "    print(\"\\nWelcome to the ATM!\")\n",
    "    print(\"1. Check Balance\")\n",
    "    print(\"2. Deposit Money\")\n",
    "    print(\"3. Withdraw Money\")\n",
    "    print(\"4. Exit\")\n",
    "\n",
    "def main():\n",
    "    atm = ATM(100)  # Initial balance is $100 for testing\n",
    "    while True:\n",
    "        atm_menu()\n",
    "        choice = input(\"Please choose an option (1-4): \")\n",
    "\n",
    "        if choice == '1':\n",
    "            atm.check_balance()\n",
    "        elif choice == '2':\n",
    "            amount = float(input(\"Enter amount to deposit: \"))\n",
    "            atm.deposit(amount)\n",
    "        elif choice == '3':\n",
    "            amount = float(input(\"Enter amount to withdraw: \"))\n",
    "            atm.withdraw(amount)\n",
    "        elif choice == '4':\n",
    "            print(\"Thank you for using the ATM. Goodbye!\")\n",
    "            break\n",
    "        else:\n",
    "            print(\"Invalid choice, please select a valid option.\")\n"
   ]
  },
  {
   "cell_type": "code",
   "execution_count": 13,
   "metadata": {},
   "outputs": [],
   "source": [
    "ali = ATM(100)"
   ]
  },
  {
   "cell_type": "code",
   "execution_count": 14,
   "metadata": {},
   "outputs": [
    {
     "name": "stdout",
     "output_type": "stream",
     "text": [
      "Your current balance is: $100.00\n"
     ]
    }
   ],
   "source": [
    "ali.check_balance()"
   ]
  },
  {
   "cell_type": "code",
   "execution_count": null,
   "metadata": {},
   "outputs": [],
   "source": []
  }
 ],
 "metadata": {
  "kernelspec": {
   "display_name": "base",
   "language": "python",
   "name": "python3"
  },
  "language_info": {
   "codemirror_mode": {
    "name": "ipython",
    "version": 3
   },
   "file_extension": ".py",
   "mimetype": "text/x-python",
   "name": "python",
   "nbconvert_exporter": "python",
   "pygments_lexer": "ipython3",
   "version": "3.12.4"
  }
 },
 "nbformat": 4,
 "nbformat_minor": 2
}
